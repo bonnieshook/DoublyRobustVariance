{
 "cells": [
  {
   "cell_type": "markdown",
   "id": "af05e42c",
   "metadata": {},
   "source": [
    "# Python code to replicate the illustrative example from \"Double Robust Variance Estimation\"\n",
    "\n",
    "Code used to replicate the analysis for the effect of maternal anemia on birth weight among women living with HIV was estimated with data from the Improving Pregnancy Outcomes with Progesterone (IPOP) trial described in Shook-Sa BE, Zivich PN, Lee C, Xue K, Ross RK, Edwards JK, Stringer JSA, Cole SR. \"Double Robust Variance Estimation\" Submitted 2024.\n",
    "\n",
    "Paul Zivich (2024/11/01)"
   ]
  },
  {
   "cell_type": "code",
   "execution_count": 1,
   "id": "15d13de9",
   "metadata": {},
   "outputs": [
    {
     "name": "stdout",
     "output_type": "stream",
     "text": [
      "Versions\n",
      "====================\n",
      "NumPy:        1.25.2\n",
      "SciPy:        1.11.2\n",
      "Pandas:       1.4.1\n",
      "formulaic:    0.5.2\n",
      "Delicatessen: 2.4\n"
     ]
    }
   ],
   "source": [
    "import numpy as np\n",
    "import scipy as sp\n",
    "import pandas as pd\n",
    "import formulaic as formula\n",
    "from formulaic import model_matrix\n",
    "import delicatessen as deli\n",
    "from delicatessen import MEstimator\n",
    "from delicatessen.estimating_equations import ee_regression\n",
    "\n",
    "from efuncs import ee_aipw_plugin, ee_aipw_wreg, ee_tmle, bound_unit\n",
    "from var_helper import inf_func_inference, aipw_plugin_bootstrap, aipw_wreg_bootstrap, tmle_bootstrap\n",
    "\n",
    "np.random.seed(7777777)\n",
    "\n",
    "print(\"Versions\")\n",
    "print(\"====================\")\n",
    "print(\"NumPy:       \", np.__version__)\n",
    "print(\"SciPy:       \", sp.__version__)\n",
    "print(\"Pandas:      \", pd.__version__)\n",
    "print(\"formulaic:   \", formula.__version__)\n",
    "print(\"Delicatessen:\", deli.__version__)"
   ]
  },
  {
   "cell_type": "markdown",
   "id": "cc932664",
   "metadata": {},
   "source": [
    "## Loading data and setup"
   ]
  },
  {
   "cell_type": "code",
   "execution_count": 2,
   "id": "2b4dc403",
   "metadata": {},
   "outputs": [],
   "source": [
    "d = pd.read_csv(\"data/ipop_subset_04.15.24.csv\")\n",
    "d['intercept'] = 1\n",
    "\n",
    "# Applying intervention to data\n",
    "d1 = d.copy()         # Copy data\n",
    "d1['anemia'] = 1      # And set anemia equal to 1\n",
    "d0 = d.copy()         # Copy data\n",
    "d0['anemia'] = 0      # And set anemia equal to 0\n",
    "\n",
    "# Extracting outcome and action variables into arrays\n",
    "a = np.asarray(d['anemia'])\n",
    "y = np.asarray(d['del_bw'])\n",
    "\n",
    "# Empty list for results storage\n",
    "rows = []"
   ]
  },
  {
   "cell_type": "markdown",
   "id": "5e1ebe91",
   "metadata": {},
   "source": [
    "## Setting up estimating equations"
   ]
  },
  {
   "cell_type": "code",
   "execution_count": 3,
   "id": "14b2f368",
   "metadata": {},
   "outputs": [],
   "source": [
    "def psi_aipw_plugin(theta):\n",
    "    # Estimating function for the plug-in AIPW with correct models\n",
    "    return ee_aipw_plugin(theta=theta,         # Parameter vector\n",
    "                          y=y,                 # Outcome column\n",
    "                          a=a,                 # Action column\n",
    "                          PSM=ps_dmatrix,      # Propensity score model\n",
    "                          OM=out_dmatrix,      # Outcome model\n",
    "                          OM1=out1_dmatrix,    # Outcome model but with anemia=1\n",
    "                          OM0=out0_dmatrix)    # Outcome model but with anemia=0\n",
    "\n",
    "\n",
    "def psi_aipw_wreg(theta):\n",
    "    # Estimating function for the plug-in AIPW with correct models\n",
    "    return ee_aipw_wreg(theta=theta,       # Parameter vector\n",
    "                        y=y,               # Outcome column\n",
    "                        a=a,               # Action column\n",
    "                        PSM=ps_dmatrix,    # Propensity score model\n",
    "                        OM=out_dmatrix,    # Outcome model\n",
    "                        OM1=out1_dmatrix,  # Outcome model but with anemia=1\n",
    "                        OM0=out0_dmatrix)  # Outcome model but with anemia=0\n",
    "\n",
    "\n",
    "def psi_tmle(theta):\n",
    "    return ee_tmle(theta=theta,       # Parameter vector\n",
    "                   y=y,               # Outcome column\n",
    "                   a=a,               # Action column\n",
    "                   PSM=ps_dmatrix,    # Propensity score model\n",
    "                   OM=out_dmatrix,    # Outcome model\n",
    "                   OM1=out1_dmatrix,  # Outcome model but with anemia=1\n",
    "                   OM0=out0_dmatrix)  # Outcome model but with anemia=0\n",
    "\n",
    "\n",
    "def psi_bounded_outcome(theta):\n",
    "    continuous_bound = 1e-5\n",
    "    min_y = np.min(y) - continuous_bound\n",
    "    max_y = np.max(y) + continuous_bound\n",
    "    yb = bound_unit(y, mini=min_y, maxi=max_y)\n",
    "    return ee_regression(theta=theta, X=out_dmatrix, y=yb, model='linear')"
   ]
  },
  {
   "cell_type": "markdown",
   "id": "ac48c9b5",
   "metadata": {},
   "source": [
    "## Full Covariate Specification\n",
    "\n",
    "The following models use the full covariate set specification, which correspond to `ps_model_full` and `outcome_model_full`."
   ]
  },
  {
   "cell_type": "code",
   "execution_count": 4,
   "id": "8de3f21c",
   "metadata": {},
   "outputs": [],
   "source": [
    "rows.append([\"Full-Covariate\", ])      # Label for the table output"
   ]
  },
  {
   "cell_type": "code",
   "execution_count": 5,
   "id": "d0b851e0",
   "metadata": {},
   "outputs": [],
   "source": [
    "# Propensity score model specifications\n",
    "psmodel = (\"base_art + base_alc + first_trimester + C(age_cat) + C(num_prior_births) \"\n",
    "           \"+ Height_SP1 + Height_SP2 + Height_SP3 + Height_SP4\")\n",
    "ps_dmatrix = model_matrix(psmodel, d)\n",
    "\n",
    "# Outcome model specifications\n",
    "ymodel = (\"anemia + base_art + base_alc + first_trimester + C(age_cat) + C(num_prior_births) + \"\n",
    "          \"Height_SP1 + Height_SP2 + Height_SP3 + Height_SP4\")\n",
    "out_dmatrix = model_matrix(ymodel, d)\n",
    "out1_dmatrix = model_matrix(ymodel, d1)\n",
    "out0_dmatrix = model_matrix(ymodel, d0)"
   ]
  },
  {
   "cell_type": "markdown",
   "id": "c7896900",
   "metadata": {},
   "source": [
    "### Plug-in AIPW"
   ]
  },
  {
   "cell_type": "code",
   "execution_count": 6,
   "id": "67e604ba",
   "metadata": {},
   "outputs": [],
   "source": [
    "# Initial values (generic but causal means near observed mean)\n",
    "init_vals = [0., 3000., 3000., ] + [0., ]*ps_dmatrix.shape[1] + [3000., ] + [0., ]*(out_dmatrix.shape[1] - 1)\n",
    "\n",
    "# Applying M-estimator\n",
    "estr = MEstimator(psi_aipw_plugin, init=init_vals)\n",
    "estr.estimate(maxiter=20000)\n",
    "ci = estr.confidence_intervals()\n",
    "\n",
    "# Propensity score model solutions to simplify other estimators root-finding\n",
    "ps_solutions = estr.theta[3: 3 + ps_dmatrix.shape[1]]\n",
    "\n",
    "# Computing the influence-function variance by hand\n",
    "ifvar = inf_func_inference(theta=estr.theta, y=y, a=a,\n",
    "                           PSM=ps_dmatrix, OM=out_dmatrix,\n",
    "                           OM1=out1_dmatrix, OM0=out0_dmatrix)\n",
    "\n",
    "# Bootstrapping procedure\n",
    "bsvar = aipw_plugin_bootstrap(data=d, y='del_bw', a='anemia', a_model=psmodel, y_model=ymodel, \n",
    "                              iterations=5000)\n",
    "\n",
    "# Storing results for the output\n",
    "rows.append([\"Plug-in\", estr.theta[0], estr.variance[0, 0]**0.5, ci[0, 0], ci[0, 1],\n",
    "             ifvar[0], ifvar[1], ifvar[2],\n",
    "             bsvar[0], bsvar[1], bsvar[2]])"
   ]
  },
  {
   "cell_type": "markdown",
   "id": "ecef5778",
   "metadata": {},
   "source": [
    "### Weighted-regression AIPW"
   ]
  },
  {
   "cell_type": "code",
   "execution_count": 7,
   "id": "494dad24",
   "metadata": {},
   "outputs": [],
   "source": [
    "# Weighted-regression AIPW estimator\n",
    "\n",
    "def psi_aipw_wreg_correct(theta):\n",
    "    # Estimating function for the weighted-regression AIPW with correct models\n",
    "    return ee_aipw_wreg(theta=theta,            # Parameter vector\n",
    "                        y=y,                    # Outcome column\n",
    "                        a=a,                    # Action column\n",
    "                        PSM=ps_model_full,      # Propensity score model\n",
    "                        OM=out_model_full,      # Outcome model\n",
    "                        OM1=out1_model_full,    # Outcome model but with anemia=1\n",
    "                        OM0=out0_model_full)    # Outcome model but with anemia=0\n",
    "\n",
    "\n",
    "# Initial values (uses previous PS solution to speed up)\n",
    "init_vals = [0., 3000., 3000., ] + list(ps_solutions) + [3000., ] + [0., ]*(out_dmatrix.shape[1] - 1)\n",
    "\n",
    "# Applying M-estimator\n",
    "estr = MEstimator(psi_aipw_wreg, init=init_vals)\n",
    "estr.estimate(maxiter=20000)\n",
    "ci = estr.confidence_intervals()\n",
    "\n",
    "# Computing the influence-function variance by hand\n",
    "ifvar = inf_func_inference(theta=estr.theta, y=y, a=a, PSM=ps_dmatrix, OM=out_dmatrix,\n",
    "                           OM1=out1_dmatrix, OM0=out0_dmatrix)\n",
    "\n",
    "# Bootstrapping procedure\n",
    "bsvar = aipw_wreg_bootstrap(data=d, y='del_bw', a='anemia', a_model=psmodel, y_model=ymodel, \n",
    "                            iterations=5000)\n",
    "\n",
    "# Storing results for the output\n",
    "rows.append([\"WReg\", estr.theta[0], estr.variance[0, 0]**0.5, ci[0, 0], ci[0, 1],\n",
    "             ifvar[0], ifvar[1], ifvar[2],\n",
    "             bsvar[0], bsvar[1], bsvar[2]])"
   ]
  },
  {
   "cell_type": "markdown",
   "id": "29f39534",
   "metadata": {},
   "source": [
    "### TMLE"
   ]
  },
  {
   "cell_type": "code",
   "execution_count": 8,
   "id": "2f1cd653",
   "metadata": {},
   "outputs": [
    {
     "name": "stderr",
     "output_type": "stream",
     "text": [
      "c:\\users\\zivic\\documents\\open-source\\delicatessen\\delicatessen\\utilities.py:25: RuntimeWarning: divide by zero encountered in log\n",
      "  return np.log(prob / (1 - prob))\n"
     ]
    }
   ],
   "source": [
    "# Initial values (uses previous PS solution to speed up)\n",
    "init_vals = [0., 3000., 3000.] + list(ps_solutions) + [0., ]*out_dmatrix.shape[1] + [0., 0.]\n",
    "\n",
    "# Applying M-estimator\n",
    "estr = MEstimator(psi_tmle, init=init_vals)\n",
    "estr.estimate(maxiter=20000)\n",
    "ci = estr.confidence_intervals()\n",
    "\n",
    "# Computing the influence-function variance by hand\n",
    "ifvar = inf_func_inference(theta=estr.theta, y=y, a=a, PSM=ps_dmatrix, OM=out_dmatrix,\n",
    "                           OM1=out1_dmatrix, OM0=out0_dmatrix, unbound_y=True)\n",
    "\n",
    "# Bootstrapping procedure\n",
    "bsvar = tmle_bootstrap(data=d, y='del_bw', a='anemia', a_model=psmodel, y_model=ymodel, \n",
    "                       iterations=5000)\n",
    "\n",
    "# Storing results for the output\n",
    "rows.append([\"TMLE\", estr.theta[0], estr.variance[0, 0]**0.5, ci[0, 0], ci[0, 1],\n",
    "             ifvar[0], ifvar[1], ifvar[2],\n",
    "             bsvar[0], bsvar[1], bsvar[2]])"
   ]
  },
  {
   "cell_type": "markdown",
   "id": "abbeebae",
   "metadata": {},
   "source": [
    "## Naive Outcome Specifications"
   ]
  },
  {
   "cell_type": "code",
   "execution_count": 9,
   "id": "706a63f4",
   "metadata": {},
   "outputs": [],
   "source": [
    "rows.append([\"Naive Outcome\", ])       # Label for the table output"
   ]
  },
  {
   "cell_type": "code",
   "execution_count": 10,
   "id": "0635ae35",
   "metadata": {},
   "outputs": [],
   "source": [
    "# Propensity score model specifications\n",
    "psmodel = (\"base_art + base_alc + first_trimester + C(age_cat) + C(num_prior_births) \"\n",
    "           \"+ Height_SP1 + Height_SP2 + Height_SP3 + Height_SP4\")\n",
    "ps_dmatrix = model_matrix(psmodel, d)\n",
    "\n",
    "# Outcome model specifications\n",
    "ymodel = \"anemia\"\n",
    "out_dmatrix = model_matrix(ymodel, d)\n",
    "out1_dmatrix = model_matrix(ymodel, d1)\n",
    "out0_dmatrix = model_matrix(ymodel, d0)"
   ]
  },
  {
   "cell_type": "markdown",
   "id": "7be391c0",
   "metadata": {},
   "source": [
    "### Plug-in AIPW"
   ]
  },
  {
   "cell_type": "code",
   "execution_count": 11,
   "id": "ae8daa0a",
   "metadata": {},
   "outputs": [],
   "source": [
    "# Initial values (generic but causal means near observed mean)\n",
    "init_vals = [0., 3000., 3000., ] + [0., ]*ps_dmatrix.shape[1] + [3000., 0., ]\n",
    "\n",
    "# Applying M-estimator\n",
    "estr = MEstimator(psi_aipw_plugin, init=init_vals)\n",
    "estr.estimate(maxiter=20000)\n",
    "ci = estr.confidence_intervals()\n",
    "\n",
    "# Computing the influence-function variance by hand\n",
    "ifvar = inf_func_inference(theta=estr.theta, y=y, a=a, PSM=ps_dmatrix, OM=out_dmatrix,\n",
    "                           OM1=out1_dmatrix, OM0=out0_dmatrix)\n",
    "\n",
    "# Bootstrapping procedure\n",
    "bsvar = aipw_plugin_bootstrap(data=d, y='del_bw', a='anemia', a_model=psmodel, y_model=ymodel, \n",
    "                              iterations=5000)\n",
    "\n",
    "# Storing results for the output\n",
    "rows.append([\"Plug-in\", estr.theta[0], estr.variance[0, 0]**0.5, ci[0, 0], ci[0, 1],\n",
    "             ifvar[0], ifvar[1], ifvar[2],\n",
    "             bsvar[0], bsvar[1], bsvar[2]])"
   ]
  },
  {
   "cell_type": "markdown",
   "id": "79521545",
   "metadata": {},
   "source": [
    "### Weighted-regression AIPW"
   ]
  },
  {
   "cell_type": "code",
   "execution_count": 12,
   "id": "d8a27cb6",
   "metadata": {},
   "outputs": [],
   "source": [
    "# Initial values (generic but causal means near observed mean)\n",
    "init_vals = [0., 3000., 3000., ] + [0., ]*ps_dmatrix.shape[1] + [3000., 0.]\n",
    "\n",
    "# Applying M-estimator\n",
    "estr = MEstimator(psi_aipw_wreg, init=init_vals)\n",
    "estr.estimate(maxiter=20000)\n",
    "ci = estr.confidence_intervals()\n",
    "\n",
    "# Computing the influence-function variance by hand\n",
    "ifvar = inf_func_inference(theta=estr.theta, y=y, a=a, PSM=ps_dmatrix, OM=out_dmatrix,\n",
    "                           OM1=out1_dmatrix, OM0=out0_dmatrix)\n",
    "\n",
    "# Bootstrapping procedure\n",
    "bsvar = aipw_wreg_bootstrap(data=d, y='del_bw', a='anemia', a_model=psmodel, y_model=ymodel, \n",
    "                            iterations=5000)\n",
    "\n",
    "# Storing results for the output\n",
    "rows.append([\"WReg\", estr.theta[0], estr.variance[0, 0]**0.5, ci[0, 0], ci[0, 1],\n",
    "             ifvar[0], ifvar[1], ifvar[2],\n",
    "             bsvar[0], bsvar[1], bsvar[2]])"
   ]
  },
  {
   "cell_type": "markdown",
   "id": "e1333639",
   "metadata": {},
   "source": [
    "### TMLE"
   ]
  },
  {
   "cell_type": "code",
   "execution_count": 13,
   "id": "d0c6b363",
   "metadata": {},
   "outputs": [
    {
     "name": "stderr",
     "output_type": "stream",
     "text": [
      "c:\\users\\zivic\\documents\\open-source\\delicatessen\\delicatessen\\utilities.py:25: RuntimeWarning: divide by zero encountered in log\n",
      "  return np.log(prob / (1 - prob))\n",
      "c:\\users\\zivic\\documents\\open-source\\delicatessen\\delicatessen\\utilities.py:25: RuntimeWarning: invalid value encountered in log\n",
      "  return np.log(prob / (1 - prob))\n"
     ]
    }
   ],
   "source": [
    "# Initial values (uses previous PS solution to speed up)\n",
    "init_vals = [0., 3000., 3000., ] + [0., ]*ps_dmatrix.shape[1] + [0., 0.] + [0., 0., ]\n",
    "\n",
    "# Applying M-estimator\n",
    "estr = MEstimator(psi_tmle, init=init_vals)\n",
    "estr.estimate(maxiter=20000)\n",
    "ci = estr.confidence_intervals()\n",
    "\n",
    "# Computing the influence-function variance by hand\n",
    "ifvar = inf_func_inference(theta=estr.theta, y=y, a=a, PSM=ps_dmatrix, OM=out_dmatrix,\n",
    "                           OM1=out1_dmatrix, OM0=out0_dmatrix, unbound_y=True)\n",
    "\n",
    "# Bootstrapping procedure\n",
    "bsvar = tmle_bootstrap(data=d, y='del_bw', a='anemia', a_model=psmodel, y_model=ymodel, iterations=5000)\n",
    "\n",
    "# Storing results for the output\n",
    "rows.append([\"TMLE\", estr.theta[0], estr.variance[0, 0]**0.5, ci[0, 0], ci[0, 1],\n",
    "             ifvar[0], ifvar[1], ifvar[2],\n",
    "             bsvar[0], bsvar[1], bsvar[2]])"
   ]
  },
  {
   "cell_type": "markdown",
   "id": "9b486c91",
   "metadata": {},
   "source": [
    "## Naive Propensity Score Specifications"
   ]
  },
  {
   "cell_type": "code",
   "execution_count": 14,
   "id": "f2c01659",
   "metadata": {},
   "outputs": [],
   "source": [
    "rows.append([\"Naive PS\", ])            # Label for the table output"
   ]
  },
  {
   "cell_type": "code",
   "execution_count": 15,
   "id": "22adeb67",
   "metadata": {},
   "outputs": [],
   "source": [
    "# Propensity score model specifications\n",
    "psmodel = \"1\"\n",
    "ps_dmatrix = model_matrix(psmodel, d)\n",
    "\n",
    "# Outcome model specifications\n",
    "ymodel = (\"anemia + base_art + base_alc + first_trimester + C(age_cat) + C(num_prior_births) + \"\n",
    "          \"Height_SP1 + Height_SP2 + Height_SP3 + Height_SP4\")\n",
    "out_dmatrix = model_matrix(ymodel, d)\n",
    "out1_dmatrix = model_matrix(ymodel, d1)\n",
    "out0_dmatrix = model_matrix(ymodel, d0)"
   ]
  },
  {
   "cell_type": "markdown",
   "id": "3663a46c",
   "metadata": {},
   "source": [
    "### Plug-in AIPW"
   ]
  },
  {
   "cell_type": "code",
   "execution_count": 16,
   "id": "3e0c6a2b",
   "metadata": {},
   "outputs": [],
   "source": [
    "# Initial values (generic but causal means near observed mean)\n",
    "init_vals = [0., 3000., 3000., ] + [0., ] + [3000., ] + [0., ]*(out_dmatrix.shape[1] - 1)\n",
    "\n",
    "# Applying M-estimator\n",
    "estr = MEstimator(psi_aipw_plugin, init=init_vals)\n",
    "estr.estimate(maxiter=20000)\n",
    "ci = estr.confidence_intervals()\n",
    "\n",
    "# Computing the influence-function variance by hand\n",
    "ifvar = inf_func_inference(theta=estr.theta, y=y, a=a, PSM=ps_dmatrix, OM=out_dmatrix,\n",
    "                           OM1=out1_dmatrix, OM0=out0_dmatrix)\n",
    "\n",
    "# Bootstrapping procedure\n",
    "bsvar = aipw_plugin_bootstrap(data=d, y='del_bw', a='anemia', a_model=psmodel, y_model=ymodel, iterations=5000)\n",
    "\n",
    "# Storing results for the output\n",
    "rows.append([\"Plug-in\", estr.theta[0], estr.variance[0, 0]**0.5, ci[0, 0], ci[0, 1],\n",
    "             ifvar[0], ifvar[1], ifvar[2],\n",
    "             bsvar[0], bsvar[1], bsvar[2]])"
   ]
  },
  {
   "cell_type": "markdown",
   "id": "4d8924c2",
   "metadata": {},
   "source": [
    "### Weighted-regression AIPW"
   ]
  },
  {
   "cell_type": "code",
   "execution_count": 17,
   "id": "5a5639e1",
   "metadata": {},
   "outputs": [],
   "source": [
    "# Initial values (generic but causal means near observed mean)\n",
    "init_vals = [0., 3000., 3000., ] + [0., ] + [3000., ] + [0., ]*(out_dmatrix.shape[1] - 1)\n",
    "\n",
    "# Applying M-estimator\n",
    "estr = MEstimator(psi_aipw_wreg, init=init_vals)\n",
    "estr.estimate(maxiter=20000)\n",
    "ci = estr.confidence_intervals()\n",
    "\n",
    "# Computing the influence-function variance by hand\n",
    "ifvar = inf_func_inference(theta=estr.theta, y=y, a=a, PSM=ps_dmatrix, OM=out_dmatrix,\n",
    "                           OM1=out1_dmatrix, OM0=out0_dmatrix)\n",
    "\n",
    "# Bootstrapping procedure\n",
    "bsvar = aipw_wreg_bootstrap(data=d, y='del_bw', a='anemia', a_model=psmodel, y_model=ymodel, iterations=5000)\n",
    "\n",
    "# Storing results for the output\n",
    "rows.append([\"WReg\", estr.theta[0], estr.variance[0, 0]**0.5, ci[0, 0], ci[0, 1],\n",
    "             ifvar[0], ifvar[1], ifvar[2],\n",
    "             bsvar[0], bsvar[1], bsvar[2]])"
   ]
  },
  {
   "cell_type": "markdown",
   "id": "2248494d",
   "metadata": {},
   "source": [
    "### TMLE"
   ]
  },
  {
   "cell_type": "code",
   "execution_count": 18,
   "id": "919e139a",
   "metadata": {},
   "outputs": [],
   "source": [
    "# Initial values (uses previous PS solution to speed up)\n",
    "init_vals = [0., ]*out_dmatrix.shape[1]\n",
    "estr = MEstimator(psi_bounded_outcome, init=init_vals)\n",
    "estr.estimate(maxiter=20000, deriv_method='exact')\n",
    "out_solution = list(estr.theta)\n",
    "init_vals = [0., 3000., 3000., ] + [0., ] + out_solution + [0., 0., ]\n",
    "\n",
    "# Applying M-estimator\n",
    "estr = MEstimator(psi_tmle, init=init_vals)\n",
    "estr.estimate(maxiter=20000)\n",
    "ci = estr.confidence_intervals()\n",
    "\n",
    "# Computing the influence-function variance by hand\n",
    "ifvar = inf_func_inference(theta=estr.theta, y=y, a=a, PSM=ps_dmatrix, OM=out_dmatrix,\n",
    "                           OM1=out1_dmatrix, OM0=out0_dmatrix, unbound_y=True)\n",
    "\n",
    "# Bootstrapping procedure\n",
    "bsvar = tmle_bootstrap(data=d, y='del_bw', a='anemia', a_model=psmodel, y_model=ymodel, iterations=5000)\n",
    "\n",
    "# Storing results for the output\n",
    "rows.append([\"TMLE\", estr.theta[0], estr.variance[0, 0]**0.5, ci[0, 0], ci[0, 1],\n",
    "             ifvar[0], ifvar[1], ifvar[2],\n",
    "             bsvar[0], bsvar[1], bsvar[2]])"
   ]
  },
  {
   "cell_type": "markdown",
   "id": "e7ddfb20",
   "metadata": {},
   "source": [
    "## Displaying the Results"
   ]
  },
  {
   "cell_type": "code",
   "execution_count": 19,
   "id": "e634493d",
   "metadata": {},
   "outputs": [
    {
     "data": {
      "text/html": [
       "<div>\n",
       "<style scoped>\n",
       "    .dataframe tbody tr th:only-of-type {\n",
       "        vertical-align: middle;\n",
       "    }\n",
       "\n",
       "    .dataframe tbody tr th {\n",
       "        vertical-align: top;\n",
       "    }\n",
       "\n",
       "    .dataframe thead th {\n",
       "        text-align: right;\n",
       "    }\n",
       "</style>\n",
       "<table border=\"1\" class=\"dataframe\">\n",
       "  <thead>\n",
       "    <tr style=\"text-align: right;\">\n",
       "      <th></th>\n",
       "      <th>Est</th>\n",
       "      <th>ES-SE</th>\n",
       "      <th>ES-LCL</th>\n",
       "      <th>ES-UCL</th>\n",
       "      <th>IF-SE</th>\n",
       "      <th>IF-LCL</th>\n",
       "      <th>IF-UCL</th>\n",
       "      <th>BS-SE</th>\n",
       "      <th>BS-LCL</th>\n",
       "      <th>BS-UCL</th>\n",
       "    </tr>\n",
       "    <tr>\n",
       "      <th>Estimator</th>\n",
       "      <th></th>\n",
       "      <th></th>\n",
       "      <th></th>\n",
       "      <th></th>\n",
       "      <th></th>\n",
       "      <th></th>\n",
       "      <th></th>\n",
       "      <th></th>\n",
       "      <th></th>\n",
       "      <th></th>\n",
       "    </tr>\n",
       "  </thead>\n",
       "  <tbody>\n",
       "    <tr>\n",
       "      <th>Full-Covariate</th>\n",
       "      <td>NaN</td>\n",
       "      <td>NaN</td>\n",
       "      <td>NaN</td>\n",
       "      <td>NaN</td>\n",
       "      <td>NaN</td>\n",
       "      <td>NaN</td>\n",
       "      <td>NaN</td>\n",
       "      <td>NaN</td>\n",
       "      <td>NaN</td>\n",
       "      <td>NaN</td>\n",
       "    </tr>\n",
       "    <tr>\n",
       "      <th>Plug-in</th>\n",
       "      <td>-37.0</td>\n",
       "      <td>56.0</td>\n",
       "      <td>-147.0</td>\n",
       "      <td>73.0</td>\n",
       "      <td>58.0</td>\n",
       "      <td>-151.0</td>\n",
       "      <td>76.0</td>\n",
       "      <td>62.0</td>\n",
       "      <td>-159.0</td>\n",
       "      <td>84.0</td>\n",
       "    </tr>\n",
       "    <tr>\n",
       "      <th>WReg</th>\n",
       "      <td>-41.0</td>\n",
       "      <td>56.0</td>\n",
       "      <td>-151.0</td>\n",
       "      <td>69.0</td>\n",
       "      <td>56.0</td>\n",
       "      <td>-151.0</td>\n",
       "      <td>68.0</td>\n",
       "      <td>62.0</td>\n",
       "      <td>-162.0</td>\n",
       "      <td>79.0</td>\n",
       "    </tr>\n",
       "    <tr>\n",
       "      <th>TMLE</th>\n",
       "      <td>-37.0</td>\n",
       "      <td>56.0</td>\n",
       "      <td>-147.0</td>\n",
       "      <td>73.0</td>\n",
       "      <td>58.0</td>\n",
       "      <td>-151.0</td>\n",
       "      <td>76.0</td>\n",
       "      <td>62.0</td>\n",
       "      <td>-160.0</td>\n",
       "      <td>85.0</td>\n",
       "    </tr>\n",
       "    <tr>\n",
       "      <th>Naive Outcome</th>\n",
       "      <td>NaN</td>\n",
       "      <td>NaN</td>\n",
       "      <td>NaN</td>\n",
       "      <td>NaN</td>\n",
       "      <td>NaN</td>\n",
       "      <td>NaN</td>\n",
       "      <td>NaN</td>\n",
       "      <td>NaN</td>\n",
       "      <td>NaN</td>\n",
       "      <td>NaN</td>\n",
       "    </tr>\n",
       "    <tr>\n",
       "      <th>Plug-in</th>\n",
       "      <td>-36.0</td>\n",
       "      <td>57.0</td>\n",
       "      <td>-148.0</td>\n",
       "      <td>76.0</td>\n",
       "      <td>61.0</td>\n",
       "      <td>-157.0</td>\n",
       "      <td>85.0</td>\n",
       "      <td>64.0</td>\n",
       "      <td>-162.0</td>\n",
       "      <td>90.0</td>\n",
       "    </tr>\n",
       "    <tr>\n",
       "      <th>WReg</th>\n",
       "      <td>-36.0</td>\n",
       "      <td>57.0</td>\n",
       "      <td>-148.0</td>\n",
       "      <td>77.0</td>\n",
       "      <td>61.0</td>\n",
       "      <td>-156.0</td>\n",
       "      <td>84.0</td>\n",
       "      <td>64.0</td>\n",
       "      <td>-162.0</td>\n",
       "      <td>90.0</td>\n",
       "    </tr>\n",
       "    <tr>\n",
       "      <th>TMLE</th>\n",
       "      <td>-36.0</td>\n",
       "      <td>57.0</td>\n",
       "      <td>-148.0</td>\n",
       "      <td>77.0</td>\n",
       "      <td>61.0</td>\n",
       "      <td>-156.0</td>\n",
       "      <td>84.0</td>\n",
       "      <td>62.0</td>\n",
       "      <td>-157.0</td>\n",
       "      <td>86.0</td>\n",
       "    </tr>\n",
       "    <tr>\n",
       "      <th>Naive PS</th>\n",
       "      <td>NaN</td>\n",
       "      <td>NaN</td>\n",
       "      <td>NaN</td>\n",
       "      <td>NaN</td>\n",
       "      <td>NaN</td>\n",
       "      <td>NaN</td>\n",
       "      <td>NaN</td>\n",
       "      <td>NaN</td>\n",
       "      <td>NaN</td>\n",
       "      <td>NaN</td>\n",
       "    </tr>\n",
       "    <tr>\n",
       "      <th>Plug-in</th>\n",
       "      <td>-41.0</td>\n",
       "      <td>58.0</td>\n",
       "      <td>-154.0</td>\n",
       "      <td>73.0</td>\n",
       "      <td>56.0</td>\n",
       "      <td>-150.0</td>\n",
       "      <td>69.0</td>\n",
       "      <td>58.0</td>\n",
       "      <td>-154.0</td>\n",
       "      <td>73.0</td>\n",
       "    </tr>\n",
       "    <tr>\n",
       "      <th>WReg</th>\n",
       "      <td>-47.0</td>\n",
       "      <td>57.0</td>\n",
       "      <td>-159.0</td>\n",
       "      <td>66.0</td>\n",
       "      <td>54.0</td>\n",
       "      <td>-153.0</td>\n",
       "      <td>59.0</td>\n",
       "      <td>60.0</td>\n",
       "      <td>-164.0</td>\n",
       "      <td>70.0</td>\n",
       "    </tr>\n",
       "    <tr>\n",
       "      <th>TMLE</th>\n",
       "      <td>-41.0</td>\n",
       "      <td>58.0</td>\n",
       "      <td>-154.0</td>\n",
       "      <td>73.0</td>\n",
       "      <td>56.0</td>\n",
       "      <td>-150.0</td>\n",
       "      <td>69.0</td>\n",
       "      <td>58.0</td>\n",
       "      <td>-154.0</td>\n",
       "      <td>73.0</td>\n",
       "    </tr>\n",
       "  </tbody>\n",
       "</table>\n",
       "</div>"
      ],
      "text/plain": [
       "                 Est  ES-SE  ES-LCL  ES-UCL  IF-SE  IF-LCL  IF-UCL  BS-SE  BS-LCL  BS-UCL\n",
       "Estimator                                                                                \n",
       "Full-Covariate   NaN    NaN     NaN     NaN    NaN     NaN     NaN    NaN     NaN     NaN\n",
       "Plug-in        -37.0   56.0  -147.0    73.0   58.0  -151.0    76.0   62.0  -159.0    84.0\n",
       "WReg           -41.0   56.0  -151.0    69.0   56.0  -151.0    68.0   62.0  -162.0    79.0\n",
       "TMLE           -37.0   56.0  -147.0    73.0   58.0  -151.0    76.0   62.0  -160.0    85.0\n",
       "Naive Outcome    NaN    NaN     NaN     NaN    NaN     NaN     NaN    NaN     NaN     NaN\n",
       "Plug-in        -36.0   57.0  -148.0    76.0   61.0  -157.0    85.0   64.0  -162.0    90.0\n",
       "WReg           -36.0   57.0  -148.0    77.0   61.0  -156.0    84.0   64.0  -162.0    90.0\n",
       "TMLE           -36.0   57.0  -148.0    77.0   61.0  -156.0    84.0   62.0  -157.0    86.0\n",
       "Naive PS         NaN    NaN     NaN     NaN    NaN     NaN     NaN    NaN     NaN     NaN\n",
       "Plug-in        -41.0   58.0  -154.0    73.0   56.0  -150.0    69.0   58.0  -154.0    73.0\n",
       "WReg           -47.0   57.0  -159.0    66.0   54.0  -153.0    59.0   60.0  -164.0    70.0\n",
       "TMLE           -41.0   58.0  -154.0    73.0   56.0  -150.0    69.0   58.0  -154.0    73.0"
      ]
     },
     "execution_count": 19,
     "metadata": {},
     "output_type": "execute_result"
    }
   ],
   "source": [
    "results = pd.DataFrame(rows, \n",
    "                       columns=[\"Estimator\", \"Est\", \n",
    "                                \"ES-SE\", \"ES-LCL\", \"ES-UCL\", \n",
    "                                \"IF-SE\", \"IF-LCL\", \"IF-UCL\",\n",
    "                                \"BS-SE\", \"BS-LCL\", \"BS-UCL\"])\n",
    "results = results.set_index(\"Estimator\")\n",
    "pd.set_option('display.max_columns', None)\n",
    "pd.set_option('expand_frame_repr', False)\n",
    "results.round(0)"
   ]
  },
  {
   "cell_type": "markdown",
   "id": "6e0501f1",
   "metadata": {},
   "source": [
    "END"
   ]
  }
 ],
 "metadata": {
  "kernelspec": {
   "display_name": "Python 3 (ipykernel)",
   "language": "python",
   "name": "python3"
  },
  "language_info": {
   "codemirror_mode": {
    "name": "ipython",
    "version": 3
   },
   "file_extension": ".py",
   "mimetype": "text/x-python",
   "name": "python",
   "nbconvert_exporter": "python",
   "pygments_lexer": "ipython3",
   "version": "3.9.4"
  }
 },
 "nbformat": 4,
 "nbformat_minor": 5
}
