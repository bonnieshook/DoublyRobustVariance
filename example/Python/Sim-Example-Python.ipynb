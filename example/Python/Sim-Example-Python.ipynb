{
 "cells": [
  {
   "cell_type": "markdown",
   "id": "3a37e3db",
   "metadata": {},
   "source": [
    "# Python code: Simulated example from \"Double Robust Variance Estimation\"\n",
    "\n",
    "Code to replicate the analysis on a simulated data set from Shook-Sa BE, Zivich PN, Lee C, Xue K, Ross RK, Edwards JK, Stringer JSA, Cole SR. \"Double Robust Variance Estimation\" Submitted 2024.\n",
    "\n",
    "Paul Zivich (2024/04/23)"
   ]
  },
  {
   "cell_type": "code",
   "execution_count": 1,
   "id": "87ba4d58",
   "metadata": {},
   "outputs": [
    {
     "name": "stdout",
     "output_type": "stream",
     "text": [
      "Versions\n",
      "====================\n",
      "NumPy:        1.25.2\n",
      "SciPy:        1.11.2\n",
      "Pandas:       1.4.1\n",
      "formulaic:    0.5.2\n",
      "Delicatessen: 2.2\n"
     ]
    }
   ],
   "source": [
    "import numpy as np\n",
    "import scipy as sp\n",
    "import pandas as pd\n",
    "import formulaic as formula\n",
    "from formulaic import model_matrix\n",
    "import delicatessen as deli\n",
    "from delicatessen import MEstimator\n",
    "from delicatessen.estimating_equations import ee_regression\n",
    "\n",
    "from efuncs import ee_aipw_plugin, ee_aipw_wreg, ee_tmle, bound_unit\n",
    "from helper import inf_func_inference\n",
    "\n",
    "print(\"Versions\")\n",
    "print(\"====================\")\n",
    "print(\"NumPy:       \", np.__version__)\n",
    "print(\"SciPy:       \", sp.__version__)\n",
    "print(\"Pandas:      \", pd.__version__)\n",
    "print(\"formulaic:   \", formula.__version__)\n",
    "print(\"Delicatessen:\", deli.__version__)"
   ]
  },
  {
   "cell_type": "markdown",
   "id": "65829aac",
   "metadata": {},
   "source": [
    "## Loading Data and Setup"
   ]
  },
  {
   "cell_type": "code",
   "execution_count": 2,
   "id": "0169ebfd",
   "metadata": {},
   "outputs": [],
   "source": [
    "d = pd.read_csv(\"data/exampledata.csv\")\n",
    "\n",
    "# Applying intervention to data\n",
    "d1 = d.copy()         # Copy data\n",
    "d1['X'] = 1           # And set X equal to 1\n",
    "d0 = d.copy()         # Copy data\n",
    "d0['X'] = 0           # And set X equal to 0\n",
    "\n",
    "# Extracting outcome and action variables into arrays\n",
    "a = np.asarray(d['X'])\n",
    "y = np.asarray(d['Y'])\n",
    "\n",
    "# Empty list for results storage\n",
    "rows = []"
   ]
  },
  {
   "cell_type": "markdown",
   "id": "b88ae6a5",
   "metadata": {},
   "source": [
    "## Model Specifications"
   ]
  },
  {
   "cell_type": "code",
   "execution_count": 3,
   "id": "dca58df1",
   "metadata": {},
   "outputs": [],
   "source": [
    "# Propensity score model specifications\n",
    "ps_model = model_matrix(\"Z1 + Z2 + Z1:Z2 + Z3 + Z1:Z3\", d)\n",
    "\n",
    "# Outcome model specifications\n",
    "out_spec = (\"X*Z1*Z2\")\n",
    "out_model = model_matrix(out_spec, d)\n",
    "out1_model = model_matrix(out_spec, d1)\n",
    "out0_model = model_matrix(out_spec, d0)"
   ]
  },
  {
   "cell_type": "markdown",
   "id": "3d7e67e5",
   "metadata": {},
   "source": [
    "## Classic AIPW"
   ]
  },
  {
   "cell_type": "code",
   "execution_count": 4,
   "id": "ec4fda66",
   "metadata": {},
   "outputs": [],
   "source": [
    "# Classic AIPW estimator\n",
    "\n",
    "def psi_aipw_plugin(theta):\n",
    "    # Estimating function for the classic AIPW\n",
    "    return ee_aipw_plugin(theta=theta,       # Parameter vector\n",
    "                          y=y,               # Outcome column\n",
    "                          a=a,               # Action column\n",
    "                          PSM=ps_model,      # Propensity score model\n",
    "                          OM=out_model,      # Outcome model\n",
    "                          OM1=out1_model,    # Outcome model but with X=1\n",
    "                          OM0=out0_model)    # Outcome model but with X=0\n",
    "\n",
    "\n",
    "# Initial values (generic but causal means near observed mean)\n",
    "init_vals = [0., 2000., 2000., ] + [0., ]*ps_model.shape[1] + [2000., ] + [0., ]*(out_model.shape[1] - 1)\n",
    "\n",
    "# Applying M-estimator\n",
    "estr = MEstimator(psi_aipw_plugin, init=init_vals)   # Setup M-estimator\n",
    "estr.estimate(maxiter=20000)                         # Solve M-estimator\n",
    "ci = estr.confidence_intervals()                     # Compute the confidence intervals\n",
    "\n",
    "# Computing the influence-function variance by hand\n",
    "ifvar = inf_func_inference(theta=estr.theta, y=y, a=a,\n",
    "                           PSM=ps_model, OM=out_model,\n",
    "                           OM1=out1_model, OM0=out0_model)\n",
    "\n",
    "# Storing results for the output\n",
    "rows.append([\"Classic-AIPW\", estr.theta[0], \n",
    "             estr.variance[0, 0]**0.5, ci[0, 0], ci[0, 1], \n",
    "             ifvar[0], ifvar[1], ifvar[2]])"
   ]
  },
  {
   "cell_type": "markdown",
   "id": "f89e9717",
   "metadata": {},
   "source": [
    "## Weighted Regression AIPW"
   ]
  },
  {
   "cell_type": "code",
   "execution_count": 5,
   "id": "7b02ea9d",
   "metadata": {},
   "outputs": [],
   "source": [
    "# Weighted-regression AIPW estimator\n",
    "\n",
    "def psi_aipw_wreg(theta):\n",
    "    # Estimating function for the weighted-regression AIPW\n",
    "    return ee_aipw_wreg(theta=theta,       # Parameter vector\n",
    "                        y=y,               # Outcome column\n",
    "                        a=a,               # Action column\n",
    "                        PSM=ps_model,      # Propensity score model\n",
    "                        OM=out_model,      # Outcome model\n",
    "                        OM1=out1_model,    # Outcome model but with X=1\n",
    "                        OM0=out0_model)    # Outcome model but with X=0\n",
    "\n",
    "\n",
    "# Initial values (generic but causal means near observed mean)\n",
    "init_vals = [0., 2000., 2000., ] + [0., ]*ps_model.shape[1] + [2000., ] + [0., ]*(out_model.shape[1] - 1)\n",
    "\n",
    "# Applying M-estimator\n",
    "estr = MEstimator(psi_aipw_wreg, init=init_vals)  # Setup the M-estimator\n",
    "estr.estimate(maxiter=20000)                      # Solve the M-estimator\n",
    "ci = estr.confidence_intervals()                  # Compute the confidence intervals\n",
    "\n",
    "# Computing the influence-function variance by hand\n",
    "ifvar = inf_func_inference(theta=estr.theta, y=y, a=a, \n",
    "                           PSM=ps_model, OM=out_model,\n",
    "                           OM1=out1_model, OM0=out0_model)\n",
    "\n",
    "# Storing results for the output\n",
    "rows.append([\"WR-AIPW\", estr.theta[0], \n",
    "             estr.variance[0, 0]**0.5, ci[0, 0], ci[0, 1], \n",
    "             ifvar[0], ifvar[1], ifvar[2]])"
   ]
  },
  {
   "cell_type": "markdown",
   "id": "9e66e7c1",
   "metadata": {},
   "source": [
    "## TMLE"
   ]
  },
  {
   "cell_type": "code",
   "execution_count": 6,
   "id": "f719e5ed",
   "metadata": {},
   "outputs": [],
   "source": [
    "# Targeted maximum likelihood estimator\n",
    "\n",
    "def psi_tmle(theta):\n",
    "    # Estimating function for the TMLE\n",
    "    return ee_tmle(theta=theta,       # Parameter vector\n",
    "                   y=y,               # Outcome column\n",
    "                   a=a,               # Action column\n",
    "                   PSM=ps_model,      # Propensity score model\n",
    "                   OM=out_model,      # Outcome model\n",
    "                   OM1=out1_model,    # Outcome model but with X=1\n",
    "                   OM0=out0_model)    # Outcome model but with X=0\n",
    "\n",
    "\n",
    "# Initial values (generic but causal means near observed mean)\n",
    "init_vals = [0., 0., 0., ] + [0., ]*ps_model.shape[1] + [0.5, ] + [0., ]*(out_model.shape[1] - 1) + [0., 0.]\n",
    "# init_vals = starting_tmle[:9] + [0.5, ] + [0., ]*(out_model.shape[1] - 1) + [0., 0.]\n",
    "\n",
    "# Applying M-estimator\n",
    "estr = MEstimator(psi_tmle, init=init_vals)         # Setup the M-estimator\n",
    "estr.estimate(maxiter=20000)                        # Solve the M-estimator\n",
    "ci = estr.confidence_intervals()                    # Compute the confidence intervals\n",
    "\n",
    "# Computing the influence-function variance by hand\n",
    "ifvar = inf_func_inference(theta=estr.theta, y=y, a=a, \n",
    "                           PSM=ps_model, OM=out_model,\n",
    "                           OM1=out1_model, OM0=out0_model, \n",
    "                           unbound_y=True)\n",
    "\n",
    "# Storing results for the output\n",
    "rows.append([\"TMLE\", estr.theta[0], \n",
    "             estr.variance[0, 0]**0.5, ci[0, 0], ci[0, 1], \n",
    "             ifvar[0], ifvar[1], ifvar[2]])"
   ]
  },
  {
   "cell_type": "markdown",
   "id": "8b564a14",
   "metadata": {},
   "source": [
    "## Results"
   ]
  },
  {
   "cell_type": "code",
   "execution_count": 7,
   "id": "bea4bf6f",
   "metadata": {},
   "outputs": [
    {
     "data": {
      "text/html": [
       "<div>\n",
       "<style scoped>\n",
       "    .dataframe tbody tr th:only-of-type {\n",
       "        vertical-align: middle;\n",
       "    }\n",
       "\n",
       "    .dataframe tbody tr th {\n",
       "        vertical-align: top;\n",
       "    }\n",
       "\n",
       "    .dataframe thead th {\n",
       "        text-align: right;\n",
       "    }\n",
       "</style>\n",
       "<table border=\"1\" class=\"dataframe\">\n",
       "  <thead>\n",
       "    <tr style=\"text-align: right;\">\n",
       "      <th></th>\n",
       "      <th>Est</th>\n",
       "      <th>ES-SE</th>\n",
       "      <th>ES-LCL</th>\n",
       "      <th>ES-UCL</th>\n",
       "      <th>IF-SE</th>\n",
       "      <th>IF-LCL</th>\n",
       "      <th>IF-UCL</th>\n",
       "    </tr>\n",
       "    <tr>\n",
       "      <th>Estimator</th>\n",
       "      <th></th>\n",
       "      <th></th>\n",
       "      <th></th>\n",
       "      <th></th>\n",
       "      <th></th>\n",
       "      <th></th>\n",
       "      <th></th>\n",
       "    </tr>\n",
       "  </thead>\n",
       "  <tbody>\n",
       "    <tr>\n",
       "      <th>Classic-AIPW</th>\n",
       "      <td>-19.0</td>\n",
       "      <td>58.0</td>\n",
       "      <td>-132.0</td>\n",
       "      <td>94.0</td>\n",
       "      <td>58.0</td>\n",
       "      <td>-132.0</td>\n",
       "      <td>95.0</td>\n",
       "    </tr>\n",
       "    <tr>\n",
       "      <th>WR-AIPW</th>\n",
       "      <td>-16.0</td>\n",
       "      <td>57.0</td>\n",
       "      <td>-129.0</td>\n",
       "      <td>96.0</td>\n",
       "      <td>58.0</td>\n",
       "      <td>-129.0</td>\n",
       "      <td>97.0</td>\n",
       "    </tr>\n",
       "    <tr>\n",
       "      <th>TMLE</th>\n",
       "      <td>-19.0</td>\n",
       "      <td>58.0</td>\n",
       "      <td>-132.0</td>\n",
       "      <td>94.0</td>\n",
       "      <td>58.0</td>\n",
       "      <td>-132.0</td>\n",
       "      <td>95.0</td>\n",
       "    </tr>\n",
       "  </tbody>\n",
       "</table>\n",
       "</div>"
      ],
      "text/plain": [
       "               Est  ES-SE  ES-LCL  ES-UCL  IF-SE  IF-LCL  IF-UCL\n",
       "Estimator                                                       \n",
       "Classic-AIPW -19.0   58.0  -132.0    94.0   58.0  -132.0    95.0\n",
       "WR-AIPW      -16.0   57.0  -129.0    96.0   58.0  -129.0    97.0\n",
       "TMLE         -19.0   58.0  -132.0    94.0   58.0  -132.0    95.0"
      ]
     },
     "execution_count": 7,
     "metadata": {},
     "output_type": "execute_result"
    }
   ],
   "source": [
    "results = pd.DataFrame(rows, \n",
    "                       columns=[\"Estimator\", \"Est\", \n",
    "                                \"ES-SE\", \"ES-LCL\", \"ES-UCL\", \n",
    "                                \"IF-SE\", \"IF-LCL\", \"IF-UCL\"])\n",
    "results = results.set_index(\"Estimator\")\n",
    "results.round(0)"
   ]
  },
  {
   "cell_type": "markdown",
   "id": "e39af20f",
   "metadata": {},
   "source": [
    "END"
   ]
  }
 ],
 "metadata": {
  "kernelspec": {
   "display_name": "Python 3 (ipykernel)",
   "language": "python",
   "name": "python3"
  },
  "language_info": {
   "codemirror_mode": {
    "name": "ipython",
    "version": 3
   },
   "file_extension": ".py",
   "mimetype": "text/x-python",
   "name": "python",
   "nbconvert_exporter": "python",
   "pygments_lexer": "ipython3",
   "version": "3.9.4"
  }
 },
 "nbformat": 4,
 "nbformat_minor": 5
}
